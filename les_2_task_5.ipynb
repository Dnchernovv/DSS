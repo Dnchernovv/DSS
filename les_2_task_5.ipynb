{
 "cells": [
  {
   "cell_type": "code",
   "execution_count": 187,
   "metadata": {},
   "outputs": [],
   "source": [
    "import numpy as np\n",
    "import random\n",
    "a = np.arange(12, 24)\n",
    "c1 =  a.reshape(3, 4)\n",
    "c2 = a.reshape(4, 3)\n",
    "c3 = a.reshape(6, 2)\n",
    "c4 = a.reshape(2, 6)\n",
    "c5 = a.reshape(12, 1)"
   ]
  },
  {
   "cell_type": "code",
   "execution_count": 52,
   "metadata": {},
   "outputs": [],
   "source": [
    "d1 = a.reshape(-1,2)\n",
    "d2 = a[0:6].reshape(-1,2)\n",
    "d3 = a[0:2].reshape(-1,2)\n",
    "d4 = a.reshape(2,-1)\n",
    "d5 = a[3:5].reshape(2,-1)"
   ]
  },
  {
   "cell_type": "markdown",
   "metadata": {},
   "source": [
    "Можно ли массив Numpy, состоящий из одного столбца и 12 строк, назвать одномерным?\n",
    "* Нет, так как одномерным может считаться массив с 1 строкой, насколько я понимаю. "
   ]
  },
  {
   "cell_type": "code",
   "execution_count": 80,
   "metadata": {},
   "outputs": [
    {
     "data": {
      "text/plain": [
       "True"
      ]
     },
     "execution_count": 80,
     "metadata": {},
     "output_type": "execute_result"
    }
   ],
   "source": [
    "norm = np.random.normal(0, 1, 12).reshape(3, 4)\n",
    "new_norm = norm.reshape(12)\n",
    "new_norm.size == norm.size"
   ]
  },
  {
   "cell_type": "code",
   "execution_count": 116,
   "metadata": {},
   "outputs": [
    {
     "data": {
      "text/plain": [
       "False"
      ]
     },
     "execution_count": 116,
     "metadata": {},
     "output_type": "execute_result"
    }
   ],
   "source": [
    "rev = np.array([i for i in reversed(range(1,22,2))])\n",
    "rev_2 = np.array([i for i in reversed(range(2,22,2))]).reshape(1,10)\n",
    "rev_2.shape == rev.shape\n",
    "# разница в форме - у первого массива показатель строк вообще отсутствует. \n",
    "# Хотя по сути это один и тот же вектор\n",
    "# Кроме того, первый массив длинее второго"
   ]
  },
  {
   "cell_type": "code",
   "execution_count": 153,
   "metadata": {},
   "outputs": [
    {
     "data": {
      "text/plain": [
       "10"
      ]
     },
     "execution_count": 153,
     "metadata": {},
     "output_type": "execute_result"
    }
   ],
   "source": [
    "a = np.ones(shape = [2, 2])\n",
    "b = np.ones(shape = [3, 2])\n",
    "c = np.concatenate((a, b), axis = 0)\n",
    "c.size"
   ]
  },
  {
   "cell_type": "code",
   "execution_count": 168,
   "metadata": {},
   "outputs": [
    {
     "data": {
      "text/plain": [
       "0.0"
      ]
     },
     "execution_count": 168,
     "metadata": {},
     "output_type": "execute_result"
    }
   ],
   "source": [
    "a = np.arange(0, 12)\n",
    "A = a.reshape(4, 3)\n",
    "At = A.T\n",
    "B = A.dot(At)\n",
    "np.linalg.det(B)\n",
    "# матрица B является вырожденной, а значит для неё нельзя вычислить обратную матрицу"
   ]
  },
  {
   "cell_type": "code",
   "execution_count": 244,
   "metadata": {},
   "outputs": [
    {
     "name": "stdout",
     "output_type": "stream",
     "text": [
      "-260899772.5493293 \n",
      " [[ 0.00660226 -0.00981102 -0.0069139   0.01085037]\n",
      " [ 0.01887663 -0.00796324 -0.00102273  0.0013831 ]\n",
      " [-0.00058049  0.00658652 -0.00417003  0.00122085]\n",
      " [-0.01177274  0.00341783  0.00761899 -0.00456527]]\n"
     ]
    }
   ],
   "source": [
    "random.seed(42)\n",
    "c = np.random.uniform(0,16,16)\n",
    "C = c.reshape(4,4)\n",
    "D = (C*10) + B\n",
    "D_inv = np.linalg.inv(D)\n",
    "print(np.linalg.det(D), '\\n', D_inv)"
   ]
  },
  {
   "cell_type": "code",
   "execution_count": 246,
   "metadata": {},
   "outputs": [],
   "source": [
    "D_inv[D_inv < 0] = 0\n",
    "D_inv[D_inv > 0] = 1\n",
    "ind = np.where(D_inv == 0)\n",
    "ind_2 = np.where(D_inv == 1)"
   ]
  },
  {
   "cell_type": "code",
   "execution_count": 249,
   "metadata": {},
   "outputs": [
    {
     "data": {
      "text/plain": [
       "array([[  6.11234088,   8.17195684,   6.67857605,  67.53724968],\n",
       "       [ 33.17845877,   5.40184274,  15.08655526, 173.71246912],\n",
       "       [  8.30064995, 198.48303342,   5.81807364, 367.48513324],\n",
       "       [ 15.39915672, 162.28516733, 291.55976094,   4.81405296]])"
      ]
     },
     "execution_count": 249,
     "metadata": {},
     "output_type": "execute_result"
    }
   ],
   "source": [
    "D_inv[ind] = C[ind]\n",
    "E = D_inv\n",
    "E[ind_2] = D[ind_2]\n",
    "E"
   ]
  },
  {
   "cell_type": "code",
   "execution_count": null,
   "metadata": {},
   "outputs": [],
   "source": []
  }
 ],
 "metadata": {
  "kernelspec": {
   "display_name": "Python 3",
   "language": "python",
   "name": "python3"
  },
  "language_info": {
   "codemirror_mode": {
    "name": "ipython",
    "version": 3
   },
   "file_extension": ".py",
   "mimetype": "text/x-python",
   "name": "python",
   "nbconvert_exporter": "python",
   "pygments_lexer": "ipython3",
   "version": "3.7.3"
  }
 },
 "nbformat": 4,
 "nbformat_minor": 2
}

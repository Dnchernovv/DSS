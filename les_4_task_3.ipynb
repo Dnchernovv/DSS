{
 "cells": [
  {
   "cell_type": "code",
   "execution_count": 2,
   "metadata": {},
   "outputs": [],
   "source": [
    "from sklearn.datasets import load_boston\n",
    "import numpy as np\n",
    "import pandas as pd\n",
    "import matplotlib.pyplot as plt\n",
    "from sklearn.model_selection import train_test_split\n",
    "from sklearn.preprocessing import StandardScaler\n",
    "from sklearn.manifold import TSNE\n",
    "from sklearn.cluster import KMeans"
   ]
  },
  {
   "cell_type": "code",
   "execution_count": 8,
   "metadata": {},
   "outputs": [],
   "source": [
    "data = load_boston()\n",
    "X = pd.DataFrame(data = data['data'],columns = data['feature_names'])\n",
    "y = data['target']\n",
    "X_train, X_test, y_train, y_test = train_test_split(X, y, test_size=0.2, random_state=42, shuffle = True)"
   ]
  },
  {
   "cell_type": "code",
   "execution_count": 9,
   "metadata": {},
   "outputs": [],
   "source": [
    "kmn = KMeans(n_clusters = 3, random_state = 42, max_iter = 100)\n",
    "kmn_X = kmn.fit_predict(X_train)\n",
    "tsne = TSNE(n_components = 2, learning_rate = 250, random_state = 42)\n",
    "X_tsne = tsne.fit_transform(X_train)\n",
    "k_1, k_2, k_3 = kmn_X == 0, kmn_X == 1, kmn_X == 2 "
   ]
  },
  {
   "cell_type": "code",
   "execution_count": 10,
   "metadata": {},
   "outputs": [
    {
     "name": "stdout",
     "output_type": "stream",
     "text": [
      " Средняя цена для кластеров 1 : 25.16868686868687, 2: 13.196774193548388, 3: 17.442105263157895\n"
     ]
    }
   ],
   "source": [
    "print(f' Средняя цена для кластеров 1 : {np.mean(y_train[k_1])}, 2: {np.mean(y_train[k_2])}, 3: {np.mean(y_train[k_3])}')"
   ]
  },
  {
   "cell_type": "code",
   "execution_count": 11,
   "metadata": {},
   "outputs": [
    {
     "name": "stdout",
     "output_type": "stream",
     "text": [
      " Средняя показатель CRIM для кластеров 1 :0.40486282828282844, 2 : 14.360380322580648, 3 : 11.745661842105266\n"
     ]
    }
   ],
   "source": [
    "print(f' Средняя показатель CRIM для кластеров 1 :{np.mean(X_train[k_1][\"CRIM\"])}, 2 : {np.mean(X_train[k_2][\"CRIM\"])}, 3 : {np.mean(X_train[k_3][\"CRIM\"])}')"
   ]
  },
  {
   "cell_type": "code",
   "execution_count": null,
   "metadata": {},
   "outputs": [],
   "source": []
  }
 ],
 "metadata": {
  "kernelspec": {
   "display_name": "Python 3",
   "language": "python",
   "name": "python3"
  },
  "language_info": {
   "codemirror_mode": {
    "name": "ipython",
    "version": 3
   },
   "file_extension": ".py",
   "mimetype": "text/x-python",
   "name": "python",
   "nbconvert_exporter": "python",
   "pygments_lexer": "ipython3",
   "version": "3.8.5"
  }
 },
 "nbformat": 4,
 "nbformat_minor": 4
}
